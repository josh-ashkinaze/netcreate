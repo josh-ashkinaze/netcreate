{
 "cells": [
  {
   "cell_type": "markdown",
   "id": "c48c065e-5310-43fb-8143-bf11addabda8",
   "metadata": {},
   "source": [
    "# Import "
   ]
  },
  {
   "cell_type": "code",
   "execution_count": 131,
   "id": "df3b006e-f9d2-4ec6-b1b9-0805b025ced6",
   "metadata": {},
   "outputs": [
    {
     "name": "stderr",
     "output_type": "stream",
     "text": [
      "[nltk_data] Downloading package punkt to /Users/jashkina/nltk_data...\n",
      "[nltk_data]   Package punkt is already up-to-date!\n",
      "[nltk_data] Downloading package averaged_perceptron_tagger to\n",
      "[nltk_data]     /Users/jashkina/nltk_data...\n",
      "[nltk_data]   Package averaged_perceptron_tagger is already up-to-\n",
      "[nltk_data]       date!\n",
      "[nltk_data] Downloading package stopwords to\n",
      "[nltk_data]     /Users/jashkina/nltk_data...\n",
      "[nltk_data]   Package stopwords is already up-to-date!\n",
      "Some weights of the model checkpoint at bert-base-uncased were not used when initializing BertModel: ['cls.predictions.bias', 'cls.seq_relationship.weight', 'cls.predictions.transform.LayerNorm.bias', 'cls.predictions.transform.dense.bias', 'cls.predictions.transform.dense.weight', 'cls.predictions.decoder.weight', 'cls.seq_relationship.bias', 'cls.predictions.transform.LayerNorm.weight']\n",
      "- This IS expected if you are initializing BertModel from the checkpoint of a model trained on another task or with another architecture (e.g. initializing a BertForSequenceClassification model from a BertForPreTraining model).\n",
      "- This IS NOT expected if you are initializing BertModel from the checkpoint of a model that you expect to be exactly identical (initializing a BertForSequenceClassification model from a BertForSequenceClassification model).\n"
     ]
    }
   ],
   "source": [
    "import jsonlines\n",
    "import pandas as pd\n",
    "import numpy as np\n",
    "import re\n",
    "import nltk\n",
    "from nltk.tokenize import word_tokenize\n",
    "from nltk.corpus import stopwords\n",
    "from collections import Counter\n",
    "from scipy.spatial.distance import cosine\n",
    "from scipy.special import rel_entr as entropy\n",
    "from sklearn.metrics.pairwise import cosine_similarity\n",
    "from sentence_transformers import SentenceTransformer\n",
    "import matplotlib.pyplot as plt\n",
    "import torch\n",
    "\n",
    "import seaborn as sns\n",
    "from textstat import flesch_reading_ease\n",
    "import jsonlines \n",
    "from transformers import BertTokenizer, BertModel\n",
    "\n",
    "\n",
    "nltk.download('punkt')\n",
    "nltk.download('averaged_perceptron_tagger')\n",
    "nltk.download('stopwords')\n",
    "sentence_model = SentenceTransformer('paraphrase-distilroberta-base-v1')\n",
    "\n",
    "bert_model = BertModel.from_pretrained('bert-base-uncased')\n",
    "bert_tokenizer = BertTokenizer.from_pretrained('bert-base-uncased')\n",
    "\n"
   ]
  },
  {
   "cell_type": "markdown",
   "id": "40ce3556-3baa-4865-970f-1892c5d01be6",
   "metadata": {},
   "source": [
    "# Make Features"
   ]
  },
  {
   "cell_type": "code",
   "execution_count": 135,
   "id": "1d52a9bf-2b53-4752-9e63-730a75c15cb3",
   "metadata": {},
   "outputs": [],
   "source": [
    "def extract_ideas(text):\n",
    "    text = text.lower()\n",
    "    ideas = []\n",
    "    \n",
    "    lines = text.split(\"\\n\")\n",
    "    for line in lines:\n",
    "        line = line.strip()\n",
    "        \n",
    "        if re.match(r'\\d+\\.', line):\n",
    "            idea = re.sub(r'\\d+\\.', '', line).strip()\n",
    "            ideas.append(idea)\n",
    "        \n",
    "        elif re.match(r'-', line):\n",
    "            idea = re.sub(r'-', '', line).strip()\n",
    "            ideas.append(idea)\n",
    "        \n",
    "        else:\n",
    "            ideas.append(line)\n",
    "\n",
    "    ideas = list(set([idea for idea in ideas if idea]))\n",
    "    \n",
    "    return ideas\n",
    "\n",
    "def load_results(file_path):\n",
    "    with jsonlines.open(file_path, mode='r') as reader:\n",
    "        data = [row for row in reader]\n",
    "    return pd.DataFrame(data)\n",
    "\n",
    "def bert_embedding(texts, model, tokenizer):\n",
    "    embeddings_list = []\n",
    "    for text in texts:\n",
    "        tokens = tokenizer(text, return_tensors='pt', padding=True, truncation=True)\n",
    "        with torch.no_grad():\n",
    "            outputs = model(**tokens)\n",
    "        \n",
    "        embeddings = outputs.last_hidden_state\n",
    "        mask = tokens['attention_mask'].unsqueeze(-1).expand(embeddings.shape).float()\n",
    "        masked_embeddings = embeddings * mask\n",
    "        summed = torch.sum(masked_embeddings, 1)\n",
    "        lengths = torch.sum(mask, 1)\n",
    "        average_embeddings = summed / lengths\n",
    "        embeddings_list.append(average_embeddings.squeeze().numpy())\n",
    "    return embeddings_list\n",
    "\n",
    "\n",
    "def semantic_embedding(texts, model):\n",
    "    embeddings_list = []\n",
    "    for text in texts:\n",
    "        idea_embeddings = model.encode(text)\n",
    "        embeddings_list.append(idea_embeddings)\n",
    "    return embeddings_list\n",
    "\n",
    "def pos_distributions(texts):\n",
    "    pos_dists = []\n",
    "    for text in texts:\n",
    "        tokens = word_tokenize(text)\n",
    "        pos_tags = nltk.pos_tag(tokens)\n",
    "        pos_counts = Counter(tag for word, tag in pos_tags)\n",
    "        total_tags = sum(pos_counts.values())\n",
    "        pos_dist = {tag: count / total_tags for tag, count in pos_counts.items()}\n",
    "        pos_dists.append(pos_dist)\n",
    "    return pos_dists\n",
    "\n",
    "def average_length(texts):\n",
    "    return np.mean([len(text.split()) for text in texts])\n",
    "\n",
    "def average_readability(texts):\n",
    "    return np.mean([flesch_reading_ease(text) for text in texts])\n",
    "\n",
    "def cosineb_distances2(row):\n",
    "    distances = []\n",
    "    outputs = np.mean(row['output_bert_embeddings'],axis=1)\n",
    "    examples = np.mean(row['example_bert_embeddings'],axis=1)\n",
    "    distance = cosine(list(outputs),list(examples))\n",
    "    return distance\n",
    "\n",
    "\n",
    "def cosineb_distances(row):\n",
    "    distances = []\n",
    "    outputs = row['output_bert_embeddings']\n",
    "    examples = row['example_bert_embeddings']\n",
    "    distances = []\n",
    "    for o_embedding in outputs:\n",
    "        for e_embedding in examples:\n",
    "            distance = cosine(list(o_embedding),list(e_embedding))\n",
    "            distances.append(distance)\n",
    "    return np.mean(distances)\n",
    "\n",
    "\n",
    "def cosine_distances2(row):\n",
    "    distances = []\n",
    "    outputs = np.mean(row['output_embeddings'],axis=1)\n",
    "    examples = np.mean(row['example_embeddings'],axis=1)\n",
    "    distance = cosine(list(outputs),list(examples))\n",
    "    return distance\n",
    "\n",
    "\n",
    "def cosine_distances(row):\n",
    "    distances = []\n",
    "    outputs = row['output_embeddings']\n",
    "    examples = row['example_embeddings']\n",
    "    distances = []\n",
    "    for o_embedding in outputs:\n",
    "        for e_embedding in examples:\n",
    "            distance = cosine(list(o_embedding),list(e_embedding))\n",
    "            distances.append(distance)\n",
    "    return np.mean(distances)\n",
    "\n",
    "def pos_distances(row):\n",
    "    pd1 = row['output_pos_dists']\n",
    "    pd2 = row['example_pos_dists']\n",
    "    intersecting_tags = set(pd1.keys()) & set(pd2.keys())\n",
    "    distance = sum(abs(pd1[tag] - pd2[tag]) for tag in intersecting_tags)\n",
    "    return distance\n",
    "\n",
    "def length_distances(row):\n",
    "    l1 = np.mean([len(x) for x in row['output']])\n",
    "    l2 = np.mean([len(x) for x in row['examples']])\n",
    "    return l2-l1\n",
    "\n",
    "def readability_distances(row):\n",
    "    l1 = np.mean([flesch_reading_ease(x) for x in row['output']])\n",
    "    l2 = np.mean([flesch_reading_ease(x) for x in row['examples']])\n",
    "    return l2-l1\n",
    "\n",
    "\n",
    "\n",
    "\n",
    "                                                   \n",
    "                                                   \n",
    "res = load_results(\"results_2023-04-01-15-56-20.jsonl\")\n",
    "\n",
    "res['output'] = res['output_responses'].apply(lambda x: extract_ideas(x))\n",
    "\n",
    "# Semantic embeddings\n",
    "#sentence_model = SentenceTransformer('paraphrase-distilroberta-base-v1')\n",
    "res['output_embeddings'] = semantic_embedding(res['output'], sentence_model)\n",
    "res['example_embeddings'] = semantic_embedding(res['examples'], sentence_model)\n",
    "\n",
    "res['output_bert_embeddings'] = bert_embedding(res['output'], bert_model, bert_tokenizer)\n",
    "res['example_bert_embeddings'] = bert_embedding(res['examples'], bert_model, bert_tokenizer)\n",
    "\n",
    "# Compute POS distributions\n",
    "res['output_pos_dists'] = pos_distributions(res['output'].apply(' '.join))\n",
    "res['example_pos_dists'] = pos_distributions(res['examples'].apply(' '.join))\n",
    "\n",
    "# Compute length and readability\n",
    "res['output_length'] = res['output'].apply(average_length)\n",
    "res['example_length'] = res['examples'].apply(average_length)\n",
    "res['output_readability'] = res['output'].apply(average_readability)\n",
    "res['example_readability'] = res['examples'].apply(average_readability)\n",
    "\n",
    "# Compute distances\n",
    "res['cosine_distances'] = res.apply(cosine_distances, axis=1)\n",
    "res['cosine_distances2'] = res.apply(cosine_distances2, axis=1)\n",
    "                                                \n",
    "                                                \n",
    "res['cosineb_distances'] = res.apply(cosineb_distances, axis=1)\n",
    "res['cosineb_distances2'] = res.apply(cosineb_distances2, axis=1)\n",
    "                                                \n",
    "res['pos_distances'] = res.apply(pos_distances, axis=1)\n",
    "res['length_distances'] = res.apply(length_distances, axis=1)\n",
    "res['readability_distances'] = res.apply(readability_distances, axis=1)\n",
    "\n"
   ]
  },
  {
   "cell_type": "code",
   "execution_count": 137,
   "id": "6ac77fec-161a-4fcc-b2ab-fa4369797179",
   "metadata": {},
   "outputs": [
    {
     "name": "stderr",
     "output_type": "stream",
     "text": [
      "/var/folders/z1/zth478gs6r51th022yvszcbh0000gr/T/ipykernel_77948/3419887932.py:1: FutureWarning: The default value of numeric_only in DataFrameGroupBy.mean is deprecated. In a future version, numeric_only will default to False. Either specify numeric_only or select only columns which should be valid for the function.\n",
      "  res.groupby(by=['prompt_condition']).mean()\n"
     ]
    },
    {
     "data": {
      "text/html": [
       "<div>\n",
       "<style scoped>\n",
       "    .dataframe tbody tr th:only-of-type {\n",
       "        vertical-align: middle;\n",
       "    }\n",
       "\n",
       "    .dataframe tbody tr th {\n",
       "        vertical-align: top;\n",
       "    }\n",
       "\n",
       "    .dataframe thead th {\n",
       "        text-align: right;\n",
       "    }\n",
       "</style>\n",
       "<table border=\"1\" class=\"dataframe\">\n",
       "  <thead>\n",
       "    <tr style=\"text-align: right;\">\n",
       "      <th></th>\n",
       "      <th>trial_no</th>\n",
       "      <th>idx</th>\n",
       "      <th>n_examples</th>\n",
       "      <th>temperature</th>\n",
       "      <th>frequency_penalty</th>\n",
       "      <th>presence_penalty</th>\n",
       "      <th>output_length</th>\n",
       "      <th>example_length</th>\n",
       "      <th>output_readability</th>\n",
       "      <th>example_readability</th>\n",
       "      <th>cosine_distances</th>\n",
       "      <th>cosine_distances2</th>\n",
       "      <th>cosineb_distances</th>\n",
       "      <th>cosineb_distances2</th>\n",
       "      <th>pos_distances</th>\n",
       "      <th>length_distances</th>\n",
       "      <th>readability_distances</th>\n",
       "    </tr>\n",
       "    <tr>\n",
       "      <th>prompt_condition</th>\n",
       "      <th></th>\n",
       "      <th></th>\n",
       "      <th></th>\n",
       "      <th></th>\n",
       "      <th></th>\n",
       "      <th></th>\n",
       "      <th></th>\n",
       "      <th></th>\n",
       "      <th></th>\n",
       "      <th></th>\n",
       "      <th></th>\n",
       "      <th></th>\n",
       "      <th></th>\n",
       "      <th></th>\n",
       "      <th></th>\n",
       "      <th></th>\n",
       "      <th></th>\n",
       "    </tr>\n",
       "  </thead>\n",
       "  <tbody>\n",
       "    <tr>\n",
       "      <th>explicit</th>\n",
       "      <td>0.0</td>\n",
       "      <td>5.5</td>\n",
       "      <td>4.0</td>\n",
       "      <td>0.7</td>\n",
       "      <td>1.25</td>\n",
       "      <td>1.25</td>\n",
       "      <td>7.437500</td>\n",
       "      <td>4.916667</td>\n",
       "      <td>71.860000</td>\n",
       "      <td>78.294792</td>\n",
       "      <td>0.824433</td>\n",
       "      <td>0.059270</td>\n",
       "      <td>0.420138</td>\n",
       "      <td>0.004497</td>\n",
       "      <td>0.404658</td>\n",
       "      <td>-18.062500</td>\n",
       "      <td>6.434792</td>\n",
       "    </tr>\n",
       "    <tr>\n",
       "      <th>implicit</th>\n",
       "      <td>0.0</td>\n",
       "      <td>5.5</td>\n",
       "      <td>4.0</td>\n",
       "      <td>0.7</td>\n",
       "      <td>1.25</td>\n",
       "      <td>1.25</td>\n",
       "      <td>4.291667</td>\n",
       "      <td>4.916667</td>\n",
       "      <td>62.185208</td>\n",
       "      <td>78.294792</td>\n",
       "      <td>0.819954</td>\n",
       "      <td>0.036842</td>\n",
       "      <td>0.407706</td>\n",
       "      <td>0.004439</td>\n",
       "      <td>0.431629</td>\n",
       "      <td>-1.062500</td>\n",
       "      <td>16.109583</td>\n",
       "    </tr>\n",
       "    <tr>\n",
       "      <th>zero_shot</th>\n",
       "      <td>0.0</td>\n",
       "      <td>5.5</td>\n",
       "      <td>4.0</td>\n",
       "      <td>0.7</td>\n",
       "      <td>1.25</td>\n",
       "      <td>1.25</td>\n",
       "      <td>20.583333</td>\n",
       "      <td>4.916667</td>\n",
       "      <td>70.198958</td>\n",
       "      <td>78.294792</td>\n",
       "      <td>0.821160</td>\n",
       "      <td>0.043798</td>\n",
       "      <td>0.478023</td>\n",
       "      <td>0.004278</td>\n",
       "      <td>0.431164</td>\n",
       "      <td>-92.604167</td>\n",
       "      <td>8.095833</td>\n",
       "    </tr>\n",
       "  </tbody>\n",
       "</table>\n",
       "</div>"
      ],
      "text/plain": [
       "                  trial_no  idx  n_examples  temperature  frequency_penalty  \\\n",
       "prompt_condition                                                              \n",
       "explicit               0.0  5.5         4.0          0.7               1.25   \n",
       "implicit               0.0  5.5         4.0          0.7               1.25   \n",
       "zero_shot              0.0  5.5         4.0          0.7               1.25   \n",
       "\n",
       "                  presence_penalty  output_length  example_length  \\\n",
       "prompt_condition                                                    \n",
       "explicit                      1.25       7.437500        4.916667   \n",
       "implicit                      1.25       4.291667        4.916667   \n",
       "zero_shot                     1.25      20.583333        4.916667   \n",
       "\n",
       "                  output_readability  example_readability  cosine_distances  \\\n",
       "prompt_condition                                                              \n",
       "explicit                   71.860000            78.294792          0.824433   \n",
       "implicit                   62.185208            78.294792          0.819954   \n",
       "zero_shot                  70.198958            78.294792          0.821160   \n",
       "\n",
       "                  cosine_distances2  cosineb_distances  cosineb_distances2  \\\n",
       "prompt_condition                                                             \n",
       "explicit                   0.059270           0.420138            0.004497   \n",
       "implicit                   0.036842           0.407706            0.004439   \n",
       "zero_shot                  0.043798           0.478023            0.004278   \n",
       "\n",
       "                  pos_distances  length_distances  readability_distances  \n",
       "prompt_condition                                                          \n",
       "explicit               0.404658        -18.062500               6.434792  \n",
       "implicit               0.431629         -1.062500              16.109583  \n",
       "zero_shot              0.431164        -92.604167               8.095833  "
      ]
     },
     "execution_count": 137,
     "metadata": {},
     "output_type": "execute_result"
    }
   ],
   "source": [
    "res.groupby(by=['prompt_condition']).mean()"
   ]
  },
  {
   "cell_type": "code",
   "execution_count": 145,
   "id": "fa706cda-347c-4707-bc24-24f4ed4762c2",
   "metadata": {},
   "outputs": [
    {
     "data": {
      "text/plain": [
       "<AxesSubplot: xlabel='prompt_condition', ylabel='cosineb_distances'>"
      ]
     },
     "execution_count": 145,
     "metadata": {},
     "output_type": "execute_result"
    },
    {
     "data": {
      "image/png": "[encoded data removed]",
      "text/plain": [
       "<Figure size 640x480 with 1 Axes>"
      ]
     },
     "metadata": {},
     "output_type": "display_data"
    }
   ],
   "source": [
    "sns.boxplot(y='cosineb_distances', x='prompt_condition', data=res)"
   ]
  },
  {
   "cell_type": "code",
   "execution_count": 167,
   "id": "cb2622a6-4dea-4920-89eb-3f4786121e13",
   "metadata": {},
   "outputs": [],
   "source": [
    "import numpy as np\n",
    "from scipy import stats\n",
    "\n",
    "def perm_test(df, prompt_con, dv):\n",
    "    \"\"\"\n",
    "    Permutation test: One-tailed hypothesis that the zero shot condition has higher distance than another condition \n",
    "    \"\"\"\n",
    "    zero_shot = df[df['prompt_condition'] == 'zero_shot'][dv].values\n",
    "    other = df[df['prompt_condition'] == prompt_con][dv].values\n",
    "\n",
    "    def mean_diff(zero_shot, other):\n",
    "        return np.mean(zero_shot) - np.mean(other)\n",
    "    \n",
    "    observed_stat = mean_diff(zero_shot, other)\n",
    "    p_value = stats.permutation_test((zero_shot, other), statistic=mean_diff, alternative='greater').pvalue\n",
    "    \n",
    "    return p_value, observed_stat\n",
    "\n",
    "ps = []\n",
    "for prompt in ['implicit', 'explicit']:\n",
    "    for dv in ['cosineb_distances', 'pos_distances', 'length_distances', 'readability_distances']:\n",
    "        p, obs = perm_test(res, prompt, dv)\n",
    "        row = {'prompt':prompt, 'dv':dv, 'p':p, 'obs_diff':obs}\n",
    "        ps.append(row)"
   ]
  },
  {
   "cell_type": "code",
   "execution_count": 168,
   "id": "a9a53b11-c9cd-417b-a611-ece23a8eaf3c",
   "metadata": {},
   "outputs": [
    {
     "data": {
      "text/plain": [
       "[{'prompt': 'implicit',\n",
       "  'dv': 'cosineb_distances',\n",
       "  'p': 0.0046,\n",
       "  'obs_diff': 0.07031764190954465},\n",
       " {'prompt': 'implicit',\n",
       "  'dv': 'pos_distances',\n",
       "  'p': 0.5085,\n",
       "  'obs_diff': -0.0004644463789655884},\n",
       " {'prompt': 'implicit',\n",
       "  'dv': 'length_distances',\n",
       "  'p': 1.0,\n",
       "  'obs_diff': -91.54166666666667},\n",
       " {'prompt': 'implicit',\n",
       "  'dv': 'readability_distances',\n",
       "  'p': 0.7684,\n",
       "  'obs_diff': -8.013750000000002},\n",
       " {'prompt': 'explicit',\n",
       "  'dv': 'cosineb_distances',\n",
       "  'p': 0.0141,\n",
       "  'obs_diff': 0.05788561352528632},\n",
       " {'prompt': 'explicit',\n",
       "  'dv': 'pos_distances',\n",
       "  'p': 0.3603,\n",
       "  'obs_diff': 0.02650635369597032},\n",
       " {'prompt': 'explicit',\n",
       "  'dv': 'length_distances',\n",
       "  'p': 1.0,\n",
       "  'obs_diff': -74.54166666666667},\n",
       " {'prompt': 'explicit',\n",
       "  'dv': 'readability_distances',\n",
       "  'p': 0.4371,\n",
       "  'obs_diff': 1.6610416666666667}]"
      ]
     },
     "execution_count": 168,
     "metadata": {},
     "output_type": "execute_result"
    }
   ],
   "source": [
    "ps"
   ]
  },
  {
   "cell_type": "code",
   "execution_count": 118,
   "id": "04576a14-6221-4106-95ae-d8b2c0555cf5",
   "metadata": {},
   "outputs": [
    {
     "data": {
      "text/plain": [
       "0.8629059250233695"
      ]
     },
     "execution_count": 118,
     "metadata": {},
     "output_type": "execute_result"
    }
   ],
   "source": [
    "row = res.iloc[0]\n",
    "\n",
    "outputs = row['output_embeddings']\n",
    "examples = row['example_embeddings']\n",
    "distances = []\n",
    "for o_embedding in outputs:\n",
    "    for e_embedding in examples:\n",
    "        distance = cosine(list(o_embedding),list(e_embedding))\n",
    "        distances.append(distance)\n",
    "        \n",
    "np.mean(distances)"
   ]
  },
  {
   "cell_type": "code",
   "execution_count": 117,
   "id": "ae5fd9b1-71c0-492b-b37d-9d6e865a4554",
   "metadata": {},
   "outputs": [
    {
     "data": {
      "text/plain": [
       "prompt_condition                                                 zero_shot\n",
       "trial_no                                                                 0\n",
       "idx                                                                      0\n",
       "examples                 [small chair, BREAK A NUT, BUILD, A way to fil...\n",
       "output_responses         \\n\\n1. Use a brick as the base of a DIY outdoo...\n",
       "n_examples                                                               4\n",
       "temperature                                                            0.6\n",
       "frequency_penalty                                                      1.0\n",
       "presence_penalty                                                       1.0\n",
       "output                   [use a brick as the base of a diy outdoor fire...\n",
       "output_embeddings        [[-0.08925961, 0.12767501, -0.02408735, -0.192...\n",
       "example_embeddings       [[0.01571571, 0.06764027, 0.36385265, 0.207308...\n",
       "output_pos_dists         {'VB': 0.04938271604938271, 'DT': 0.0987654320...\n",
       "example_pos_dists        {'JJ': 0.0625, 'NN': 0.125, 'NNP': 0.3125, 'TO...\n",
       "output_length                                                        18.25\n",
       "example_length                                                         4.0\n",
       "output_readability                                                  69.875\n",
       "example_readability                                               118.1775\n",
       "cosine_distances                                                  0.862906\n",
       "pos_distances                                                      0.68287\n",
       "length_distances                                                         0\n",
       "readability_distances                                              48.3025\n",
       "Name: 0, dtype: object"
      ]
     },
     "execution_count": 117,
     "metadata": {},
     "output_type": "execute_result"
    }
   ],
   "source": [
    "row"
   ]
  },
  {
   "cell_type": "markdown",
   "id": "3f6459f9-d251-43ec-89bd-46edff914ad7",
   "metadata": {},
   "source": [
    "# Analysis"
   ]
  },
  {
   "cell_type": "markdown",
   "id": "03b9e6ac-81e1-435c-9064-356048c6af11",
   "metadata": {},
   "source": [
    "## By Prompt"
   ]
  },
  {
   "cell_type": "code",
   "execution_count": 120,
   "id": "2c43154d-945a-47db-a925-a566d7bc5dbb",
   "metadata": {},
   "outputs": [
    {
     "data": {
      "image/png": "[encoded data removed]",
      "text/plain": [
       "<Figure size 2000x600 with 4 Axes>"
      ]
     },
     "metadata": {},
     "output_type": "display_data"
    }
   ],
   "source": [
    "import seaborn as sns\n",
    "\n",
    "\n",
    "# Set the style of the plot\n",
    "sns.set(style=\"whitegrid\")\n",
    "\n",
    "# Create a new DataFrame with distances and prompt conditions\n",
    "distance_df = res[['prompt_condition', 'cosine_distances', 'pos_distances', 'length_distances', 'readability_distances']]\n",
    "\n",
    "# Melt the distance columns into a single column for seaborn\n",
    "melted_distance_df = distance_df.melt(id_vars=['prompt_condition'], var_name='distance_metric', value_name='distance')\n",
    "\n",
    "# Define the distance metrics\n",
    "distance_metrics = ['cosine_distances', 'pos_distances', 'length_distances', 'readability_distances']\n",
    "\n",
    "# Create the grid plot\n",
    "fig, axes = plt.subplots(1, 4, figsize=(20, 6), sharey=False)\n",
    "fig.suptitle('Distances by Prompt Condition')\n",
    "\n",
    "for ax, metric in zip(axes, distance_metrics):\n",
    "    sns.barplot(x='prompt_condition', y='distance', data=melted_distance_df[melted_distance_df['distance_metric'] == metric],  ax=ax)\n",
    "    ax.set_title(metric.replace('_', ' ').capitalize())\n",
    "    ax.set_xlabel('Prompt Condition')\n",
    "    ax.set_ylabel('Distance')\n",
    "\n",
    "plt.show()\n"
   ]
  },
  {
   "cell_type": "code",
   "execution_count": 64,
   "id": "9d6e1b9e-2626-44b7-9a40-e1316d39fe3c",
   "metadata": {},
   "outputs": [
    {
     "data": {
      "text/html": [
       "<div>\n",
       "<style scoped>\n",
       "    .dataframe tbody tr th:only-of-type {\n",
       "        vertical-align: middle;\n",
       "    }\n",
       "\n",
       "    .dataframe tbody tr th {\n",
       "        vertical-align: top;\n",
       "    }\n",
       "\n",
       "    .dataframe thead th {\n",
       "        text-align: right;\n",
       "    }\n",
       "</style>\n",
       "<table border=\"1\" class=\"dataframe\">\n",
       "  <thead>\n",
       "    <tr style=\"text-align: right;\">\n",
       "      <th></th>\n",
       "      <th>prompt_condition</th>\n",
       "      <th>distance_metric</th>\n",
       "      <th>distance</th>\n",
       "    </tr>\n",
       "  </thead>\n",
       "  <tbody>\n",
       "    <tr>\n",
       "      <th>0</th>\n",
       "      <td>zero_shot</td>\n",
       "      <td>cosine_distances</td>\n",
       "      <td>0.050959</td>\n",
       "    </tr>\n",
       "    <tr>\n",
       "      <th>1</th>\n",
       "      <td>implicit</td>\n",
       "      <td>cosine_distances</td>\n",
       "      <td>0.301178</td>\n",
       "    </tr>\n",
       "    <tr>\n",
       "      <th>2</th>\n",
       "      <td>explicit</td>\n",
       "      <td>cosine_distances</td>\n",
       "      <td>0.048931</td>\n",
       "    </tr>\n",
       "    <tr>\n",
       "      <th>3</th>\n",
       "      <td>zero_shot</td>\n",
       "      <td>cosine_distances</td>\n",
       "      <td>0.090614</td>\n",
       "    </tr>\n",
       "    <tr>\n",
       "      <th>4</th>\n",
       "      <td>implicit</td>\n",
       "      <td>cosine_distances</td>\n",
       "      <td>0.218297</td>\n",
       "    </tr>\n",
       "    <tr>\n",
       "      <th>...</th>\n",
       "      <td>...</td>\n",
       "      <td>...</td>\n",
       "      <td>...</td>\n",
       "    </tr>\n",
       "    <tr>\n",
       "      <th>139</th>\n",
       "      <td>implicit</td>\n",
       "      <td>readability_distances</td>\n",
       "      <td>20.477500</td>\n",
       "    </tr>\n",
       "    <tr>\n",
       "      <th>140</th>\n",
       "      <td>explicit</td>\n",
       "      <td>readability_distances</td>\n",
       "      <td>5.502500</td>\n",
       "    </tr>\n",
       "    <tr>\n",
       "      <th>141</th>\n",
       "      <td>zero_shot</td>\n",
       "      <td>readability_distances</td>\n",
       "      <td>21.020000</td>\n",
       "    </tr>\n",
       "    <tr>\n",
       "      <th>142</th>\n",
       "      <td>implicit</td>\n",
       "      <td>readability_distances</td>\n",
       "      <td>35.197500</td>\n",
       "    </tr>\n",
       "    <tr>\n",
       "      <th>143</th>\n",
       "      <td>explicit</td>\n",
       "      <td>readability_distances</td>\n",
       "      <td>16.497500</td>\n",
       "    </tr>\n",
       "  </tbody>\n",
       "</table>\n",
       "<p>144 rows × 3 columns</p>\n",
       "</div>"
      ],
      "text/plain": [
       "    prompt_condition        distance_metric   distance\n",
       "0          zero_shot       cosine_distances   0.050959\n",
       "1           implicit       cosine_distances   0.301178\n",
       "2           explicit       cosine_distances   0.048931\n",
       "3          zero_shot       cosine_distances   0.090614\n",
       "4           implicit       cosine_distances   0.218297\n",
       "..               ...                    ...        ...\n",
       "139         implicit  readability_distances  20.477500\n",
       "140         explicit  readability_distances   5.502500\n",
       "141        zero_shot  readability_distances  21.020000\n",
       "142         implicit  readability_distances  35.197500\n",
       "143         explicit  readability_distances  16.497500\n",
       "\n",
       "[144 rows x 3 columns]"
      ]
     },
     "execution_count": 64,
     "metadata": {},
     "output_type": "execute_result"
    }
   ],
   "source": [
    "melted_distance_df"
   ]
  },
  {
   "cell_type": "code",
   "execution_count": 9,
   "id": "5dd21e5f-d8cc-496d-bb29-1c0ad2480e62",
   "metadata": {},
   "outputs": [
    {
     "data": {
      "text/plain": [
       "(768,)"
      ]
     },
     "execution_count": 9,
     "metadata": {},
     "output_type": "execute_result"
    }
   ],
   "source": [
    "def semantic_embedding(texts, model):\n",
    "    embeddings = []\n",
    "    for text in texts:\n",
    "        ideas = text.split()\n",
    "        idea_embeddings = model.encode(ideas)\n",
    "        mean_embedding = np.mean(idea_embeddings, axis=0)\n",
    "        embeddings.append(mean_embedding)\n",
    "    return embeddings\n",
    "\n",
    "texts = [\"There is a cat\", \"There is a hat\"]\n",
    "semantic_embedding(texts, sentence_model)[0].shape"
   ]
  },
  {
   "cell_type": "code",
   "execution_count": 13,
   "id": "c5ba895e-938d-4aba-9664-9a2ba54be71d",
   "metadata": {},
   "outputs": [],
   "source": [
    "res['output_embeddings'] = semantic_embedding(res['output'].apply(' '.join), sentence_model)\n",
    "res['example_embeddings'] = semantic_embedding(res['examples'].apply(' '.join), sentence_model)"
   ]
  },
  {
   "cell_type": "code",
   "execution_count": 44,
   "id": "61794cd9-8b2d-4c27-8f12-eaf8b93e8e4b",
   "metadata": {},
   "outputs": [],
   "source": [
    "o1 = res['output_embeddings'].tolist()[0]\n",
    "e1 = res['example_embeddings'].tolist()[0]"
   ]
  },
  {
   "cell_type": "code",
   "execution_count": 49,
   "id": "0077b3e0-ffe8-46af-a661-a93e78a39a18",
   "metadata": {},
   "outputs": [
    {
     "data": {
      "text/plain": [
       "1.0"
      ]
     },
     "execution_count": 49,
     "metadata": {},
     "output_type": "execute_result"
    }
   ],
   "source": [
    "cosine_similarity([o1, e1])[0][0]"
   ]
  },
  {
   "cell_type": "code",
   "execution_count": 75,
   "id": "faf200e2-8f1b-40c2-9df9-88e658944fd4",
   "metadata": {},
   "outputs": [],
   "source": [
    "row = res.iloc[0]\n",
    "\n",
    "outputs = row['output_embeddings']\n",
    "\n"
   ]
  },
  {
   "cell_type": "code",
   "execution_count": 80,
   "id": "28d3e15f-08c6-4ff6-9f9a-fdcac9b2ec93",
   "metadata": {},
   "outputs": [
    {
     "data": {
      "text/plain": [
       "(73, 768)"
      ]
     },
     "execution_count": 80,
     "metadata": {},
     "output_type": "execute_result"
    }
   ],
   "source": [
    "outputs.shape"
   ]
  },
  {
   "cell_type": "code",
   "execution_count": 78,
   "id": "379d7266-2afb-4097-9702-71af1da2a3a6",
   "metadata": {},
   "outputs": [
    {
     "data": {
      "text/plain": [
       "['use a brick as the base of a diy outdoor fire pit.',\n",
       " 'make creative stepping stones with colorful paint and patterned designs on bricks for your backyard walkway or flower bed path.',\n",
       " 'place several bricks in an outdoor area to create your own “mini golf” course for some family fun!',\n",
       " 'create an interesting garden planter by using a brick as the bottom layer and adding soil, plants, and other decorative elements on top.']"
      ]
     },
     "execution_count": 78,
     "metadata": {},
     "output_type": "execute_result"
    }
   ],
   "source": [
    "row['output']"
   ]
  },
  {
   "cell_type": "code",
   "execution_count": null,
   "id": "be69e4e0-c69d-4d9b-8951-0e5a9bd159fb",
   "metadata": {},
   "outputs": [],
   "source": []
  }
 ],
 "metadata": {
  "kernelspec": {
   "display_name": "Python 3 (ipykernel)",
   "language": "python",
   "name": "python3"
  },
  "language_info": {
   "codemirror_mode": {
    "name": "ipython",
    "version": 3
   },
   "file_extension": ".py",
   "mimetype": "text/x-python",
   "name": "python",
   "nbconvert_exporter": "python",
   "pygments_lexer": "ipython3",
   "version": "3.9.6"
  }
 },
 "nbformat": 4,
 "nbformat_minor": 5
}
